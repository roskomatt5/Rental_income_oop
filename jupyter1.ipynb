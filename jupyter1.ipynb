#!/usr/bin/env python
# coding: utf-8

# # Week 2 - Monday Lesson (variable assignment, loops, lists)

# ## Tasks Today:
# 
# 1) Int & Float assignments <br>
#  &nbsp;&nbsp;&nbsp;&nbsp; a) Assigning int <br>
#  &nbsp;&nbsp;&nbsp;&nbsp; b) Assigning float <br>
#  &nbsp;&nbsp;&nbsp;&nbsp; c) Performing Calculations on ints and floats <br>
#  &nbsp;&nbsp;&nbsp;&nbsp;&nbsp;&nbsp;&nbsp;&nbsp; - Addition <br>
#  &nbsp;&nbsp;&nbsp;&nbsp;&nbsp;&nbsp;&nbsp;&nbsp; - Subtraction <br>
#  &nbsp;&nbsp;&nbsp;&nbsp;&nbsp;&nbsp;&nbsp;&nbsp; - Multiplication <br>
#  &nbsp;&nbsp;&nbsp;&nbsp;&nbsp;&nbsp;&nbsp;&nbsp; - Division <br>
#  &nbsp;&nbsp;&nbsp;&nbsp;&nbsp;&nbsp;&nbsp;&nbsp; - Floor Division <br>
#  &nbsp;&nbsp;&nbsp;&nbsp;&nbsp;&nbsp;&nbsp;&nbsp; - Modulo <br>
#  &nbsp;&nbsp;&nbsp;&nbsp;&nbsp;&nbsp;&nbsp;&nbsp; - Exponential <br>
# 2) String Input-Output <br>
#  &nbsp;&nbsp;&nbsp;&nbsp; a) String Assignment <br>
#  &nbsp;&nbsp;&nbsp;&nbsp; b) print() <br>
#  &nbsp;&nbsp;&nbsp;&nbsp; c) String Concatenation <br>
#  &nbsp;&nbsp;&nbsp;&nbsp; d) Type Conversion <br>
#  &nbsp;&nbsp;&nbsp;&nbsp; e) input() <br>
#  &nbsp;&nbsp;&nbsp;&nbsp; f) format() <br>
#  &nbsp;&nbsp;&nbsp;&nbsp; g) Old Way (python 2) <br>
# 3) <b>In-Class Exercise #1</b> <br>
# 4) If Statements <br>
#  &nbsp;&nbsp;&nbsp;&nbsp; a) 'is' keyword <br>
#  &nbsp;&nbsp;&nbsp;&nbsp; b) 'in' keyword <br>
#  &nbsp;&nbsp;&nbsp;&nbsp; c) 'not in' keyword <br>
# 5) <b>In-Class Exercise #2</b> <br>
# 6) Elif Statements <br>
# 7) Else Statements <br>
# 8) <b>In-Class Exercise #3</b> <br>
# 9) For Loops <br>
#  &nbsp;&nbsp;&nbsp;&nbsp; a) Using 'in' keyword <br>
#  &nbsp;&nbsp;&nbsp;&nbsp; b) Continue Statement <br>
#  &nbsp;&nbsp;&nbsp;&nbsp; c) Break Statement <br>
#  &nbsp;&nbsp;&nbsp;&nbsp; d) Pass Statement <br>
#  &nbsp;&nbsp;&nbsp;&nbsp; e) Double For Loops <br>
# 10) While Loops <br>
#  &nbsp;&nbsp;&nbsp;&nbsp; a) Looping 'While True' <br>
#  &nbsp;&nbsp;&nbsp;&nbsp; b) While and For Loops Used Together <br>
# 11) Built-In Functions <br>
#  &nbsp;&nbsp;&nbsp;&nbsp; a) range() <br>
#  &nbsp;&nbsp;&nbsp;&nbsp; b) len() <br>
#  &nbsp;&nbsp;&nbsp;&nbsp; c) help() <br>
#  &nbsp;&nbsp;&nbsp;&nbsp; d) isinstance() <br>
#  &nbsp;&nbsp;&nbsp;&nbsp; e) abs() <br>
# 12) Try and Except <br>
# 13) Lists <br>
#  &nbsp;&nbsp;&nbsp;&nbsp; a) Declaring Lists <br>
#  &nbsp;&nbsp;&nbsp;&nbsp; b) Indexing a List <br>
#  &nbsp;&nbsp;&nbsp;&nbsp; c) .append() <br>
#  &nbsp;&nbsp;&nbsp;&nbsp; d) .insert() <br>
#  &nbsp;&nbsp;&nbsp;&nbsp; e) .pop() <br>
#  &nbsp;&nbsp;&nbsp;&nbsp; f) .remove() <br>
#  &nbsp;&nbsp;&nbsp;&nbsp; g) del() <br>
#  &nbsp;&nbsp;&nbsp;&nbsp; h) Concatenating Two Lists <br>
#  &nbsp;&nbsp;&nbsp;&nbsp; i) Lists Within Lists <br>
#  &nbsp;&nbsp;&nbsp;&nbsp; j) Looping Through Lists <br>

# ### Int & Float Assignments

# ##### Assigning int

# In[1]:


number = 6

print(number)


# ##### Assinging float

# In[3]:


numberFloat = 2.3
print(numberFloat)


# #### Performing Calculations on ints and floats

# ##### Addition

# In[4]:


num1 = 1
num2 = 3

result = num1 + num2
print(result)


# ##### Subtraction

# In[5]:


result_sub = num2 - num1
print(result_sub)


# ##### Multiplication

# In[8]:


result_mul = num1 * num2
print(result_mul)


# ##### Division

# In[9]:


result_div = num2 / num1
print(result_div)


# ##### Floor Division

# In[10]:


result_fdiv = num2 // num1
print(result_fdiv)


# ##### Modulo

# In[13]:


result_mod = num2 % num1
print(result_mod)
# returns the remainder of the division between results


# ##### Exponential

# In[14]:


result_ediv = num2 ** num1
print(result_div)


# ### String Input-Output

# ##### String Assignment

# In[15]:


name = 'Albert'
print(name)


# ##### print() <br>
# <p>Don't forget about end=' '</p>

# In[18]:


print("this is my first name:",name)
print("Full Name: ",name, end=" chrylser")


# ##### String Concatenation

# In[ ]:


first_name = 'John'
last_name = 'Smoth'
full_name = first_name + ' ' + last_name
print(full_name)
full_name += ', Jr'
print(full_name)


# ##### Type Conversion

# In[ ]:


number = '32'
# ^^ string
change_type_num = int(number)
# ^ now is a number, cannot have non mumerical values 


# ##### input()

# In[30]:


##always returns a string, use type conversion if necessary
# name = input("What is your name? ")
# print("Nice to meet you, " + name)

age = int(input("what is your age?: "))
add_age = age + 5
print("In five years you will be, " + str(add_age))


# ##### format()

# In[32]:


age = input("What is your age? ")
result_string = 'You are {} {} and youre getting wiser!'.format(age,name)
print(result_string)


# ##### Old Way (python 2)

# In[34]:


# result_string2 = "you are %s and you look great for your age!" %age
# print(reuslt_string2)


# # In-Class Exercise 1 <br>
# <p>Create a format statement that asks for color, year, make, model and prints out the results</p>

# In[46]:


# color, make,year, model = input('Enter Please Provide the Color, Make, year, and Model of your vehicle:').split()

# print(color.replace(",",""))
# print(make.replace(",",""))
# print(year.replace(",",""))
# print(model.replace(",",""))

make = input("what make is your car?: ")
color = input("What color is your car?:")
year = input("What year is your car?:")
model = input("What model is your car?:")
print(make)
print(color)
print(year)
print(model)


# ### If Statements

# In[61]:


# Available operators: Greater(>), Less(<),Equal(==)
# Greater or Equal(>=), Less or Equal (<=)

# Truth Tree:
# T && F = F
# T && T = T
# T || F = T
# F || T = T
# F || F = F

num1 = 5
num2 = 10
num3 = 0
# if num1 == num2: 
#     print('equal values')
# else:
#     print('not equal')
    
if num2 < num1 or num3 > 0 :
   print("This Ran")
else: 
    print("You are here")


# ##### 'is' keyword

# In[63]:


#'IS' keyword is for checking the same object but not the same value

num3 = 55
if num3 is 55:
    print("this is the exact number")


# ##### 'in' keyword

# In[64]:


## check if a character is in a string 
char_name = "Frodo Baggins"
if "Frodo" in char_name:
    print("The ring bearer")


# ##### 'not in' keyword'

# In[65]:


sega_char = "Sonic"

if 'a' not in sega_char:
    print('no a!')


# # In-Class Exercise 2 <br>
# <p>Ask user for input, check to see if the letter 'p' is in the input</p>

# In[68]:


user_in = input("What is your name?: ")
if 'p' in user_in:
    print('has a p!')
else: 
    print('has no p!')


# ## Using 'and'/'or' with If Statements

# In[73]:


num_11 = 15
num_12 = 3
num_13 = 10
num_14 = 3
# If with 'and' statement
if num_11 / 5 == num_12 and num_13 - 7 == num_14:
    print("True and True")
    
#     If with 'or' statement
if num_13 == num_14 or num_11 > num_12:
    print('False and True')


# ### Elif Statements

# In[74]:


first_name = input('What is your name? ')
if first_name == 'Smith':
    print('name is smith')
elif first_name == "Brandon":
    print("The name is Brandon")
elif first_name != "Max":
    print("name not max")
else:
    print("The name is Max")


# ### Else Statements

# In[ ]:


# see above


# ### For Loops

# In[78]:


name = "Matthew Rosko"
for letter in name:
    print(letter)


# ##### Using 'in' keyword

# In[ ]:


# see above


# ##### Continue Statement

# In[ ]:


# will continue to next iteration


# In[82]:


for i in name:
    if i in name:
        if i == "a":
         continue
    print(i)


# ##### Break Statement

# In[ ]:


# will break out of current loop


# In[83]:


for i in name:
    if i in name:
        if i == "a":
         break
    print(i)


# ##### Pass Statement

# In[ ]:


# mostly used as a placeholder, and will continue on same iteration


# In[ ]:


name = "Matthew Rosko"

for i in name:
    pass


# ##### Double For Loops

# In[87]:


for i in range(5):
    for j in range(5):
        print('i = ', i, 'j = ', j)


# ### While Loops

# In[89]:


# Syntax
# while keyword, condition statement

num = 0

while num < 10:
    print(num)
    num += 1


# ##### Looping 'While True'

# In[93]:


game_over = True

while game_over:
    print('Infinite Loop')
    user_input = input('Would you like to stop? ')
    if user_input == 'Yes':
        game_over = False


# ##### While & For Loops Used Together

# In[94]:


num = 0

while num < 5:
    print("\n While loop iteration: " + str(num))
    
    for i in range(2):
        print("For loop iteration: ", str(i))
        
        num += 1


# ### Built-In Functions

# ##### range()

# In[96]:


for i in range(2,20):
    print(i)


# ##### len()

# In[99]:


# name = "Max"

# length = len(name)
# print(length)

name = input("give me the name of you favorite book: ")
length = len(name)
print(length)


# ##### help()

# In[100]:


# Use this function to view more info about a py function
help(range)


# ##### isinstance()

# In[103]:


# Check a variable to find out what object family (or data type) it belongs to
# isinstance(var,type)
num = input("pick a number")
if isinstance(num,int):
    print(f"{num} is an int")
else:
    print(f"{num} is a float")


# ##### abs()

# In[104]:


# |-5| = 5
print(abs(-5))


# ### Try and Except

# In[110]:


# Use this to log out graceful and userful error messages
# Does not stop the program
try:
#     number_test = 0
    input_num = int(input('Guess a number'))
    print('Your number is ' + str(input_num))
except:
    print("That didnt work! Change your input to a number!")


# ### Lists

# ##### Declaring Lists

# In[126]:


list_1 = []

names = ['Max','Cindy','Kathy', 'Bob', 'Nate']
print(names)


# ##### Indexing a List

# In[118]:


#Single Index
names[3]
# Prints list starting at 1
names[3:]
#prints up to an element
names[:3]
# print starting at index 1 and goin up by 2 in each iteration
print(names[1::2])
# print starting at the back and display in reverse order
print(names[::-1])


# ##### .append()

# In[128]:


names.append('Brandon')
print(names)


# ##### .insert()

# In[127]:


names.insert(3,'Devon')
print(names)


# ##### .pop()

# In[124]:


#defaults to the last value if no parameter is given
# pop returns the element that was removed in case you want to assign it to a variable

my_name = names.pop(2)
print(my_name)
print(names)


# ##### .remove()

# In[131]:


# value to be remved rather than the index
names.remove('Bob')
print(names)

##removes multiple "Brandons"
while 'Brandon' in names:
    names.remove('Brandon')
print(names)


# ##### del()

# In[133]:


# goes by index, rather than value
# Be careful with del, it can cause indeing errors if not used carefully
del(names[1])
print(names)


# ##### Concatenating Two Lists

# In[137]:


## lists can hold any type of other element including other lists
##They can go as deep as you want; this is called nested lists

names = ["max","sam","josh",["sally","sue","tameka"]]
print(names)
##vvvvvv prints  the 1 index of the nested list (3rd index of names list)
print(names[3][1])


# ##### Lists Within Lists

# In[139]:


names = ["max","sam","josh",["sally",["sue","jim"],"tameka"]]
print(names)
##vvvvvv prints  the 1 index of the nested list (3rd index of names list)
print(names[3][1][1])


# ##### Looping Through Lists

# In[140]:


for i in range(len(names)):
   print(names[i])


# ## Exercise #1 <br>
# <p>Cube Number Test... Print out all cubed numbers up to the total value 1000. Meaning that if the cubed number is over 1000 break the loop.</p>

# In[53]:


i = 1
while i ** 3 <= 1000:
  print(i)
  i += 1


# ## Exercise #2 <br>
# <p>Get first prime numbers up to 100</p>

# In[47]:


def first_odds(start, end):
    for i in range(start,end + 1):
        if i % 2 != 0:
          print(i)
first_odds(1,100)


# # Exercise 3 <br>
# <p>Take in a users input for their age, if they are younger than 18 print kids, if they're 18 to 65 print adults, else print seniors</p>

# In[57]:


age = int(input("How old are you?: "))
if age < 18:
    print("kids")
else: print("adults")
        




