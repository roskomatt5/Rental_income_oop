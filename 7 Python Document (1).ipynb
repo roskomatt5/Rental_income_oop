{
 "cells": [
  {
   "cell_type": "markdown",
   "metadata": {},
   "source": [
    "# Algorithms, Binary Search & Linked Lists"
   ]
  },
  {
   "cell_type": "markdown",
   "metadata": {},
   "source": [
    "## Tasks Today:\n",
    " \n",
    "1) <b>In-Place Algorithms</b> <br>\n",
    " &nbsp;&nbsp;&nbsp;&nbsp; a) Syntax <br>\n",
    " &nbsp;&nbsp;&nbsp;&nbsp; a) Out of Place Algorithm <br>\n",
    " &nbsp;&nbsp;&nbsp;&nbsp; b) In-Class Exercise #1 <br>\n",
    "2) <b>Two Pointers</b> <br>\n",
    "3) <b>Linked Lists</b> <br>\n",
    "4) <b>Merge Sort</b> <br>\n",
    " &nbsp;&nbsp;&nbsp;&nbsp; a) Video on Algorithms <br>\n",
    " &nbsp;&nbsp;&nbsp;&nbsp; b) How it Works <br>\n",
    "5) <b>Exercises</b> <br>\n",
    " &nbsp;&nbsp;&nbsp;&nbsp; a) Exercise #1 - Reverse a List in Place Using an In-Place Algorithm <br>\n",
    " &nbsp;&nbsp;&nbsp;&nbsp; b) Exercise #2 - Find Distinct Words <br>\n",
    " &nbsp;&nbsp;&nbsp;&nbsp; c) Exercise #3 - Write a program to implement a Linear Search Algorithm. <br>"
   ]
  },
  {
   "cell_type": "markdown",
   "metadata": {},
   "source": [
    "## In-Place Algorithms"
   ]
  },
  {
   "cell_type": "markdown",
   "metadata": {},
   "source": [
    "#### Syntax"
   ]
  },
  {
   "cell_type": "code",
   "execution_count": 25,
   "metadata": {},
   "outputs": [
    {
     "name": "stdout",
     "output_type": "stream",
     "text": [
      "Before swap: [20, 4, 10]\n",
      "After Swap: [4, 20, 10]\n"
     ]
    }
   ],
   "source": [
    "def swap(a_list,x,y,z):\n",
    "    a_list[x], a_list[y],a_list[z] = a_list[z],a_list[y],a_list[x]\n",
    "    return a_list\n",
    "my_list = [20,4,10]\n",
    "print(f\"Before swap: {my_list}\")\n",
    "      \n",
    "# print(f\"After Swap: {swap(my_list,2,0,1)}\")      \n",
    "print(f\"After Swap: {swap(my_list,1,2,0)}\")     "
   ]
  },
  {
   "cell_type": "markdown",
   "metadata": {},
   "source": [
    "#### Out of Place Algorithm"
   ]
  },
  {
   "cell_type": "code",
   "execution_count": 71,
   "metadata": {},
   "outputs": [
    {
     "name": "stdout",
     "output_type": "stream",
     "text": [
      "[10, 20, 4]\n",
      "['d', 'c', 'b', 'a']\n",
      "Before: ['a', 'a', 'a', 'a']\n",
      "After ['d', 'c', 'b', 'a']\n",
      "before ['a', 'b', 'c', 'd']\n"
     ]
    }
   ],
   "source": [
    "my_list_copy = my_list[::-1]\n",
    "print(my_list_copy)\n",
    "array = ['a','b','c','d']\n",
    "print(array[::-1])\n",
    "new_array = ['a'] * len(array)\n",
    "print(f\"Before: {new_array}\")\n",
    "length = len(array) - 1\n",
    "for i in range(length):\n",
    "    new_array[i] = array[length - i]\n",
    "\n",
    "# array = new_array\n",
    "print(\"After\", new_array)\n",
    "print(\"before\", array)"
   ]
  },
  {
   "cell_type": "markdown",
   "metadata": {},
   "source": [
    "#### In-Class Exercise #1 <br>\n",
    "<p>Write a function that takes in four arguments (list, index1, index2, index3), and swaps those three positions in the list passed in.</p>"
   ]
  },
  {
   "cell_type": "code",
   "execution_count": 24,
   "metadata": {},
   "outputs": [
    {
     "name": "stdout",
     "output_type": "stream",
     "text": [
      "[10, 4, 3, 8, 6, 2, 4]\n"
     ]
    }
   ],
   "source": [
    "list_1 = [10, 4, 3, 8, 4, 2, 6]\n",
    "def swap(a_list,x,y,z):\n",
    "    a_list[x], a_list[y],a_list[z] = a_list[z],a_list[y],a_list[x]\n",
    "    return a_list\n",
    "\n",
    "print(swap(list_1,6,5,4))\n",
    "\n"
   ]
  },
  {
   "cell_type": "markdown",
   "metadata": {},
   "source": [
    "## Two Pointers"
   ]
  },
  {
   "cell_type": "markdown",
   "metadata": {},
   "source": [
    "#### Syntax"
   ]
  },
  {
   "cell_type": "code",
   "execution_count": 29,
   "metadata": {},
   "outputs": [
    {
     "name": "stdout",
     "output_type": "stream",
     "text": [
      "Before: [1, 2, 3, 12, 9, 8, 4, 11, 22]\n",
      "After: [22, 11, 4, 8, 9, 12, 3, 2, 1]\n"
     ]
    }
   ],
   "source": [
    "# alist[left], alist[right] = alist[right], alist[left]\n",
    "def twoPointers(alist):\n",
    "    #create the pointers\n",
    "    left = 0\n",
    "    right = len(alist) - 1\n",
    "    # set up a loop tha works through our lists an swaps things one pair at a time\n",
    "    while left <= right:\n",
    "          alist[left], alist[right] = alist[right], alist[left]\n",
    "          left += 1\n",
    "          right -= 1\n",
    "    return alist\n",
    "my_list2 = [1,2,3,12,9,8,4,11,22]\n",
    "print(f\"Before: {my_list2}\")\n",
    "print(f\"After: {twoPointers(my_list2)}\")"
   ]
  },
  {
   "cell_type": "markdown",
   "metadata": {},
   "source": [
    "#### Video of Algorithms <br>\n",
    "<p>Watch the video about algorithms.</p>\n",
    "\n",
    "https://www.youtube.com/watch?v=Q9HjeFD62Uk\n",
    "\n",
    "https://www.youtube.com/watch?v=kPRA0W1kECg\n",
    "\n",
    "https://www.youtube.com/watch?v=ZZuD6iUe3Pc"
   ]
  },
  {
   "cell_type": "markdown",
   "metadata": {},
   "source": [
    "# Sorting Algorithms"
   ]
  },
  {
   "cell_type": "markdown",
   "metadata": {},
   "source": [
    "#### Bubble Sort\n",
    "\n",
    "Worst Case: O(n^2) Time - O(1) Space"
   ]
  },
  {
   "cell_type": "code",
   "execution_count": 1,
   "metadata": {},
   "outputs": [
    {
     "data": {
      "text/plain": [
       "[1, 22, 34, 44, 55, 66, 88, 100]"
      ]
     },
     "execution_count": 1,
     "metadata": {},
     "output_type": "execute_result"
    }
   ],
   "source": [
    "#best case O(n) - linear\n",
    "def swap(i,j,array):\n",
    "    array[i], array[j] = array[j], array[i]\n",
    "def bubbleSort(array): \n",
    "    isSorted = False\n",
    "    while not isSorted:\n",
    "        isSorted = True\n",
    "        for num in range(len(array) - 1):\n",
    "            if array[num] > array[num+1]:\n",
    "                swap(num,num+1,array)\n",
    "                isSorted = False\n",
    "    return array\n",
    "bubbleSort([22,55,88,44,1,100,34,66])"
   ]
  },
  {
   "cell_type": "markdown",
   "metadata": {},
   "source": [
    "##### Insertion Sort\n",
    "\n",
    "Worst Case: O(n^2) time - O(1)space"
   ]
  },
  {
   "cell_type": "code",
   "execution_count": 9,
   "metadata": {},
   "outputs": [
    {
     "data": {
      "text/plain": [
       "[1, 22, 34, 44, 55, 66, 88, 100]"
      ]
     },
     "execution_count": 9,
     "metadata": {},
     "output_type": "execute_result"
    }
   ],
   "source": [
    "def swap(i,j,array):\n",
    "    array[i], array[j] = array[j], array[i]\n",
    "def insertionSort(array):\n",
    "    for i in range(1,len(array)):\n",
    "        j = i\n",
    "        while j > 0 and array[j] < array[j-1]:\n",
    "            swap(j,j-1,array)\n",
    "            j -= 1\n",
    "    return array\n",
    "insertionSort([22,55,88,44,1,100,34,66])"
   ]
  },
  {
   "cell_type": "markdown",
   "metadata": {},
   "source": [
    "## Merge Sort"
   ]
  },
  {
   "cell_type": "markdown",
   "metadata": {},
   "source": [
    "#### How it Works"
   ]
  },
  {
   "cell_type": "code",
   "execution_count": 14,
   "metadata": {},
   "outputs": [
    {
     "name": "stdout",
     "output_type": "stream",
     "text": [
      "Splitting... [17, 16, 5, 17, 6, 15, 2, 0, 7, 2, 12, 12, 7, 19, 19, 3, 11, 15, 6, 12]\n",
      "Splitting... [17, 16, 5, 17, 6, 15, 2, 0, 7, 2]\n",
      "Splitting... [17, 16, 5, 17, 6]\n",
      "Splitting... [17, 16]\n",
      "Splitting... [17]\n",
      "Merging... [17]\n",
      "Splitting... [16]\n",
      "Merging... [16]\n",
      "Merging... [16, 17]\n",
      "Splitting... [5, 17, 6]\n",
      "Splitting... [5]\n",
      "Merging... [5]\n",
      "Splitting... [17, 6]\n",
      "Splitting... [17]\n",
      "Merging... [17]\n",
      "Splitting... [6]\n",
      "Merging... [6]\n",
      "Merging... [6, 17]\n",
      "Merging... [5, 6, 17]\n",
      "Merging... [5, 6, 16, 17, 17]\n",
      "Splitting... [15, 2, 0, 7, 2]\n",
      "Splitting... [15, 2]\n",
      "Splitting... [15]\n",
      "Merging... [15]\n",
      "Splitting... [2]\n",
      "Merging... [2]\n",
      "Merging... [2, 15]\n",
      "Splitting... [0, 7, 2]\n",
      "Splitting... [0]\n",
      "Merging... [0]\n",
      "Splitting... [7, 2]\n",
      "Splitting... [7]\n",
      "Merging... [7]\n",
      "Splitting... [2]\n",
      "Merging... [2]\n",
      "Merging... [2, 7]\n",
      "Merging... [0, 2, 7]\n",
      "Merging... [0, 2, 2, 7, 15]\n",
      "Merging... [0, 2, 2, 5, 6, 7, 15, 16, 17, 17]\n",
      "Splitting... [12, 12, 7, 19, 19, 3, 11, 15, 6, 12]\n",
      "Splitting... [12, 12, 7, 19, 19]\n",
      "Splitting... [12, 12]\n",
      "Splitting... [12]\n",
      "Merging... [12]\n",
      "Splitting... [12]\n",
      "Merging... [12]\n",
      "Merging... [12, 12]\n",
      "Splitting... [7, 19, 19]\n",
      "Splitting... [7]\n",
      "Merging... [7]\n",
      "Splitting... [19, 19]\n",
      "Splitting... [19]\n",
      "Merging... [19]\n",
      "Splitting... [19]\n",
      "Merging... [19]\n",
      "Merging... [19, 19]\n",
      "Merging... [7, 19, 19]\n",
      "Merging... [7, 12, 12, 19, 19]\n",
      "Splitting... [3, 11, 15, 6, 12]\n",
      "Splitting... [3, 11]\n",
      "Splitting... [3]\n",
      "Merging... [3]\n",
      "Splitting... [11]\n",
      "Merging... [11]\n",
      "Merging... [3, 11]\n",
      "Splitting... [15, 6, 12]\n",
      "Splitting... [15]\n",
      "Merging... [15]\n",
      "Splitting... [6, 12]\n",
      "Splitting... [6]\n",
      "Merging... [6]\n",
      "Splitting... [12]\n",
      "Merging... [12]\n",
      "Merging... [6, 12]\n",
      "Merging... [6, 12, 15]\n",
      "Merging... [3, 6, 11, 12, 15]\n",
      "Merging... [3, 6, 7, 11, 12, 12, 12, 15, 19, 19]\n",
      "Merging... [0, 2, 2, 3, 5, 6, 6, 7, 7, 11, 12, 12, 12, 15, 15, 16, 17, 17, 19, 19]\n"
     ]
    },
    {
     "data": {
      "text/plain": [
       "[0, 2, 2, 3, 5, 6, 6, 7, 7, 11, 12, 12, 12, 15, 15, 16, 17, 17, 19, 19]"
      ]
     },
     "execution_count": 14,
     "metadata": {},
     "output_type": "execute_result"
    }
   ],
   "source": [
    "# step 1: split everything into it's own group\n",
    "# step 2: From left to right, merge two groups together\n",
    "# step 3: While Merging, place each item in the correct position within the merged group\n",
    "# step 4: continue steps 3-4 until only one group is left\n",
    "from random import randint\n",
    "# used to generate a random list of 5 numbers from 0 to 20\n",
    "nums = [randint(0,20) for i in range(20)]\n",
    "\n",
    "#write our merge sort below\n",
    "def mergeSort(alist):\n",
    "    print(\"Splitting...\" ,alist)\n",
    "    \n",
    "    #step 1 divide the array into equal parts (as much as possible)\n",
    "    if len(alist) > 1:\n",
    "        mid = len(alist) // 2\n",
    "        lefthalf = alist[:mid]\n",
    "        righthalf = alist[mid:]\n",
    "        #recursive call mergeSort to perform to splits if needed\n",
    "        #THEN merge one the splits are done\n",
    "        mergeSort(lefthalf)\n",
    "        mergeSort(righthalf)\n",
    "        \n",
    "        #index pointer for our list\n",
    "        i = 0 # pointer for our left half\n",
    "        j = 0 #pointer for our right half\n",
    "        k = 0 #pointer for our main array\n",
    "        \n",
    "        \n",
    "        # step 2: compare the left half and the right half\n",
    "        while i < len(lefthalf) and j < len(righthalf):\n",
    "            if lefthalf[i] < righthalf[j]:\n",
    "                alist[k] = lefthalf[i]\n",
    "                i = i + 1\n",
    "            else:\n",
    "                alist[k] = righthalf[j]\n",
    "                j = j + 1\n",
    "                \n",
    "            k = k + 1\n",
    "            # Step 3: While merging, place items in the correct positions\n",
    "        while i < len(lefthalf):\n",
    "            alist[k] = lefthalf[i]\n",
    "            i = i + 1\n",
    "            k = k + 1\n",
    "        while j < len(righthalf):\n",
    "            alist[k] = righthalf[j]\n",
    "            j = j + 1\n",
    "            k = k + 1\n",
    "            \n",
    "    print(\"Merging...\", alist)\n",
    "    return alist\n",
    "mergeSort(nums)"
   ]
  },
  {
   "cell_type": "markdown",
   "metadata": {},
   "source": [
    "# Binary Search\n",
    "\n",
    "The Binary Search algorithm works by finding the number in the middle of a given array and comparing it to the target. Given that the array is sorted\n",
    "\n",
    "* The worst case run time for this algorithm is `O(log(n))`"
   ]
  },
  {
   "cell_type": "code",
   "execution_count": 15,
   "metadata": {},
   "outputs": [
    {
     "data": {
      "text/plain": [
       "'The index is 3'"
      ]
     },
     "execution_count": 15,
     "metadata": {},
     "output_type": "execute_result"
    }
   ],
   "source": [
    "#less to the left \n",
    "#greater toward the right\n",
    "# lsit of numbers MUST be in order\n",
    "def binarySearchHelperFunction(array,target, left,right):\n",
    "    while left <= right:\n",
    "        middle = (left + right) // 2\n",
    "        potentialMatch = array[middle]\n",
    "        if target == potentialMatch:\n",
    "            return f\"The index is {middle}\"\n",
    "        elif target < potentialMAtch:\n",
    "            right = middle - 1\n",
    "        else: \n",
    "            left = middle + 1\n",
    "    return -1\n",
    "def binarySearch(array,target):\n",
    "    return binarySearchHelperFunction(array,target, 0,len(array)- 1)\n",
    "binarySearch([1, 22, 34, 44, 55, 66, 88, 100],44)"
   ]
  },
  {
   "cell_type": "markdown",
   "metadata": {},
   "source": [
    "# Exercises"
   ]
  },
  {
   "cell_type": "markdown",
   "metadata": {},
   "source": [
    "### Exercise #1 <br>\n",
    "<p>Reverse the list below in-place using an in-place algorithm.<br>For extra credit: Reverse the strings at the same time.</p>"
   ]
  },
  {
   "cell_type": "code",
   "execution_count": 154,
   "metadata": {},
   "outputs": [
    {
     "data": {
      "text/plain": [
       "['.', 'ecnetnes', 'a', 'si', 'siht']"
      ]
     },
     "execution_count": 154,
     "metadata": {},
     "output_type": "execute_result"
    }
   ],
   "source": [
    "words = ['this' , 'is', 'a', 'sentence', '.']\n",
    "def swapWords(a_list, x, y, z, a, b):\n",
    "    a_list[x], a_list[y], a_list[z], a_list[a], a_list[b] = a_list[b], a_list[a], a_list[z], a_list[y], a_list[x]\n",
    "    \n",
    "    new_words = []\n",
    "    for word in a_list:\n",
    "        reversed_word = word[::-1]  \n",
    "        new_words.append(reversed_word)\n",
    "    \n",
    "    return new_words\n",
    "swapWords(words,0,1,2,3,4) \n",
    "\n"
   ]
  },
  {
   "cell_type": "markdown",
   "metadata": {},
   "source": [
    "### Exercise #2 <br>\n",
    "<p>Create a function that counts how many distinct words are in the string below, then outputs a dictionary with the words as the key and the value as the amount of times that word appears in the string.<br>Should output:<br>{'a': 5,<br>\n",
    " 'abstract': 1,<br>\n",
    " 'an': 3,<br>\n",
    " 'array': 2, ... etc...</p>"
   ]
  },
  {
   "cell_type": "code",
   "execution_count": 262,
   "metadata": {},
   "outputs": [
    {
     "data": {
      "text/plain": [
       "{'a': 5,\n",
       " 'abstract': 1,\n",
       " 'an': 3,\n",
       " 'array': 2,\n",
       " 'associative': 1,\n",
       " 'be': 1,\n",
       " 'buckets': 1,\n",
       " 'can': 2,\n",
       " 'compute': 1,\n",
       " 'computing,': 1,\n",
       " 'data': 2,\n",
       " 'desired': 1,\n",
       " 'found': 1,\n",
       " 'from': 1,\n",
       " 'function': 1,\n",
       " 'hash': 4,\n",
       " 'implements': 1,\n",
       " 'in': 1,\n",
       " 'index': 1,\n",
       " 'into': 1,\n",
       " 'is': 1,\n",
       " 'keys': 1,\n",
       " 'map': 2,\n",
       " 'of': 1,\n",
       " 'or': 1,\n",
       " 'slots': 1,\n",
       " 'structure': 2,\n",
       " 'table': 2,\n",
       " 'that': 1,\n",
       " 'the': 1,\n",
       " 'to': 2,\n",
       " 'type,': 1,\n",
       " 'uses': 1,\n",
       " 'value': 1,\n",
       " 'values.': 1,\n",
       " 'which': 2}"
      ]
     },
     "execution_count": 262,
     "metadata": {},
     "output_type": "execute_result"
    }
   ],
   "source": [
    "a_text = 'In computing, a hash table hash map is a data structure which implements an associative array abstract data type, a structure that can map keys to values. A hash table uses a hash function to compute an index into an array of buckets or slots from which the desired value can be found'\n",
    "\n",
    "list_indexes_words = list(enumerate( a_text.split()))\n",
    "\n",
    "words = []\n",
    "new_dict = {}\n",
    "\n",
    "def wordCountDict(alist):\n",
    "    unique_words = set(word_tuple[1].lower() for word_tuple in alist)\n",
    "\n",
    "    word_indices_dict = {}  \n",
    "\n",
    "    for word in unique_words:\n",
    "        temp_indices = [] \n",
    "        for i in range(len(alist)):\n",
    "            if alist[i][1].lower() == word:  \n",
    "                temp_indices.append(alist[i][0])\n",
    "\n",
    "        word_indices_dict[word] = len(temp_indices) \n",
    "        sorted_dict = {key: word_indices_dict[key] for key in sorted(word_indices_dict)}\n",
    "\n",
    "    return sorted_dict\n",
    "wordCountDict(list_indexes_words)\n",
    "\n",
    "\n"
   ]
  },
  {
   "cell_type": "markdown",
   "metadata": {},
   "source": [
    "## Exercise #3\n",
    "\n",
    "Write a program to implement a Linear Search Algorithm. Also in a comment, write the Time Complexity of the following algorithm.\n",
    "\n",
    "#### Hint: Linear Searching will require searching a list for a given number. "
   ]
  },
  {
   "cell_type": "code",
   "execution_count": 270,
   "metadata": {},
   "outputs": [
    {
     "name": "stdout",
     "output_type": "stream",
     "text": [
      "Found\n"
     ]
    }
   ],
   "source": [
    "nums = [16, 3, 9, 15, 19, 4, 2, 20, 12, 8, 13, 19, 1, 12, 14, 10, 1, 19, 4, 11]\n",
    "\n",
    "def tFinder(list_source, target):\n",
    "    for num in list_source:\n",
    "        if num == target:\n",
    "            return num  \n",
    "    return -1\n",
    "\n",
    "find = tFinder(nums, 16)\n",
    "\n",
    "if find != -1:\n",
    "    print(\"Found\")\n",
    "else:\n",
    "    print(\"Not found\")\n",
    "    \n",
    "#Time complexity O(n)"
   ]
  },
  {
   "cell_type": "code",
   "execution_count": null,
   "metadata": {},
   "outputs": [],
   "source": []
  },
  {
   "cell_type": "code",
   "execution_count": null,
   "metadata": {},
   "outputs": [],
   "source": []
  },
  {
   "cell_type": "code",
   "execution_count": null,
   "metadata": {},
   "outputs": [],
   "source": []
  },
  {
   "cell_type": "code",
   "execution_count": null,
   "metadata": {},
   "outputs": [],
   "source": []
  }
 ],
 "metadata": {
  "kernelspec": {
   "display_name": "Python 3 (ipykernel)",
   "language": "python",
   "name": "python3"
  },
  "language_info": {
   "codemirror_mode": {
    "name": "ipython",
    "version": 3
   },
   "file_extension": ".py",
   "mimetype": "text/x-python",
   "name": "python",
   "nbconvert_exporter": "python",
   "pygments_lexer": "ipython3",
   "version": "3.11.4"
  }
 },
 "nbformat": 4,
 "nbformat_minor": 2
}
